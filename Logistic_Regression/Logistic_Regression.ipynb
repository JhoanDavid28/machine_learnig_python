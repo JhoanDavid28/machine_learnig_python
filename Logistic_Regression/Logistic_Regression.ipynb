{
 "cells": [
  {
   "cell_type": "markdown",
   "id": "46b5461e",
   "metadata": {},
   "source": [
    "# Regresión Logística\n",
    "Modelo logístico que se utiliza para predecir la probabilidad de una clase o suceso específico"
   ]
  },
  {
   "cell_type": "markdown",
   "id": "42902e20",
   "metadata": {},
   "source": [
    "# Condiciones\n",
    "- Si la información es binaria\n",
    "- Si se requiere resultados probabilísticos\n",
    "- Cuando se requiiere un limite de decisión lineal"
   ]
  },
  {
   "cell_type": "markdown",
   "id": "93b8c2e5",
   "metadata": {},
   "source": [
    "# Aplicaciones\n",
    "- Para pronosticar la superviviencia en pacientes heridos en la profesión médica\n",
    "- Estimar la probabilidad de que una persona sufra un infarto\n",
    "- Predecir la probabilidad de que un procedimiento o producto fracase\n",
    "- Predecir la posibilidad de que un propietario deje de pagar a un prestamista"
   ]
  },
  {
   "cell_type": "code",
   "execution_count": 2,
   "id": "f9d08046",
   "metadata": {},
   "outputs": [],
   "source": [
    "# importar las librerias\n",
    "import numpy as np\n",
    "import matplotlib.pyplot as plt\n",
    "import pandas as pd\n",
    "from sklearn.metrics import confusion_matrix"
   ]
  },
  {
   "cell_type": "code",
   "execution_count": 3,
   "id": "49fc87a8",
   "metadata": {},
   "outputs": [],
   "source": [
    "# importamos el dataset\n",
    "dataset = pd.read_csv(\"user_data.csv\")\n",
    "X = dataset.iloc[:, [2,4]].values\n",
    "y = dataset.iloc[:, 4].values"
   ]
  },
  {
   "cell_type": "code",
   "execution_count": 7,
   "id": "de275d35",
   "metadata": {
    "scrolled": true
   },
   "outputs": [
    {
     "data": {
      "text/html": [
       "<div>\n",
       "<style scoped>\n",
       "    .dataframe tbody tr th:only-of-type {\n",
       "        vertical-align: middle;\n",
       "    }\n",
       "\n",
       "    .dataframe tbody tr th {\n",
       "        vertical-align: top;\n",
       "    }\n",
       "\n",
       "    .dataframe thead th {\n",
       "        text-align: right;\n",
       "    }\n",
       "</style>\n",
       "<table border=\"1\" class=\"dataframe\">\n",
       "  <thead>\n",
       "    <tr style=\"text-align: right;\">\n",
       "      <th></th>\n",
       "      <th>User ID</th>\n",
       "      <th>Gender</th>\n",
       "      <th>Age</th>\n",
       "      <th>EstimatedSalary</th>\n",
       "      <th>Purchased</th>\n",
       "    </tr>\n",
       "  </thead>\n",
       "  <tbody>\n",
       "    <tr>\n",
       "      <th>0</th>\n",
       "      <td>15624510</td>\n",
       "      <td>Male</td>\n",
       "      <td>19</td>\n",
       "      <td>19000</td>\n",
       "      <td>0</td>\n",
       "    </tr>\n",
       "    <tr>\n",
       "      <th>1</th>\n",
       "      <td>15810944</td>\n",
       "      <td>Male</td>\n",
       "      <td>35</td>\n",
       "      <td>20000</td>\n",
       "      <td>0</td>\n",
       "    </tr>\n",
       "    <tr>\n",
       "      <th>2</th>\n",
       "      <td>15668575</td>\n",
       "      <td>Female</td>\n",
       "      <td>26</td>\n",
       "      <td>43000</td>\n",
       "      <td>0</td>\n",
       "    </tr>\n",
       "    <tr>\n",
       "      <th>3</th>\n",
       "      <td>15603246</td>\n",
       "      <td>Female</td>\n",
       "      <td>27</td>\n",
       "      <td>57000</td>\n",
       "      <td>0</td>\n",
       "    </tr>\n",
       "    <tr>\n",
       "      <th>4</th>\n",
       "      <td>15804002</td>\n",
       "      <td>Male</td>\n",
       "      <td>19</td>\n",
       "      <td>76000</td>\n",
       "      <td>0</td>\n",
       "    </tr>\n",
       "    <tr>\n",
       "      <th>...</th>\n",
       "      <td>...</td>\n",
       "      <td>...</td>\n",
       "      <td>...</td>\n",
       "      <td>...</td>\n",
       "      <td>...</td>\n",
       "    </tr>\n",
       "    <tr>\n",
       "      <th>395</th>\n",
       "      <td>15691863</td>\n",
       "      <td>Female</td>\n",
       "      <td>46</td>\n",
       "      <td>41000</td>\n",
       "      <td>1</td>\n",
       "    </tr>\n",
       "    <tr>\n",
       "      <th>396</th>\n",
       "      <td>15706071</td>\n",
       "      <td>Male</td>\n",
       "      <td>51</td>\n",
       "      <td>23000</td>\n",
       "      <td>1</td>\n",
       "    </tr>\n",
       "    <tr>\n",
       "      <th>397</th>\n",
       "      <td>15654296</td>\n",
       "      <td>Female</td>\n",
       "      <td>50</td>\n",
       "      <td>20000</td>\n",
       "      <td>1</td>\n",
       "    </tr>\n",
       "    <tr>\n",
       "      <th>398</th>\n",
       "      <td>15755018</td>\n",
       "      <td>Male</td>\n",
       "      <td>36</td>\n",
       "      <td>33000</td>\n",
       "      <td>0</td>\n",
       "    </tr>\n",
       "    <tr>\n",
       "      <th>399</th>\n",
       "      <td>15594041</td>\n",
       "      <td>Female</td>\n",
       "      <td>49</td>\n",
       "      <td>36000</td>\n",
       "      <td>1</td>\n",
       "    </tr>\n",
       "  </tbody>\n",
       "</table>\n",
       "<p>400 rows × 5 columns</p>\n",
       "</div>"
      ],
      "text/plain": [
       "      User ID  Gender  Age  EstimatedSalary  Purchased\n",
       "0    15624510    Male   19            19000          0\n",
       "1    15810944    Male   35            20000          0\n",
       "2    15668575  Female   26            43000          0\n",
       "3    15603246  Female   27            57000          0\n",
       "4    15804002    Male   19            76000          0\n",
       "..        ...     ...  ...              ...        ...\n",
       "395  15691863  Female   46            41000          1\n",
       "396  15706071    Male   51            23000          1\n",
       "397  15654296  Female   50            20000          1\n",
       "398  15755018    Male   36            33000          0\n",
       "399  15594041  Female   49            36000          1\n",
       "\n",
       "[400 rows x 5 columns]"
      ]
     },
     "execution_count": 7,
     "metadata": {},
     "output_type": "execute_result"
    }
   ],
   "source": [
    "dataset"
   ]
  },
  {
   "cell_type": "markdown",
   "id": "e1a675f1",
   "metadata": {},
   "source": [
    "# Preprocesamiento"
   ]
  },
  {
   "cell_type": "code",
   "execution_count": 10,
   "id": "2d75ab23",
   "metadata": {},
   "outputs": [],
   "source": [
    "# Datos de entrenamiento y de prueba\n",
    "from sklearn.model_selection import train_test_split"
   ]
  },
  {
   "cell_type": "code",
   "execution_count": 13,
   "id": "aef0d3b5",
   "metadata": {},
   "outputs": [],
   "source": [
    "X_train, X_test, y_train, y_test = train_test_split(X, y, test_size=0.25, random_state=0)"
   ]
  },
  {
   "cell_type": "code",
   "execution_count": 14,
   "id": "63ec6fbd",
   "metadata": {},
   "outputs": [],
   "source": [
    "from sklearn.preprocessing import StandardScaler"
   ]
  },
  {
   "cell_type": "code",
   "execution_count": 16,
   "id": "35960a0b",
   "metadata": {},
   "outputs": [],
   "source": [
    "# escalamos o normalizamos los datos a un ranfgo especifico\n",
    "sc_X = StandardScaler()\n",
    "X_train = sc_X.fit_transform(X_train)\n",
    "X_test = sc_X.fit_transform(X_test)"
   ]
  },
  {
   "cell_type": "code",
   "execution_count": 18,
   "id": "2345ef5d",
   "metadata": {},
   "outputs": [
    {
     "data": {
      "text/plain": [
       "array([[ 0.58164944, -0.76635604],\n",
       "       [-0.60673761,  1.30487651],\n",
       "       [-0.01254409, -0.76635604],\n",
       "       [-0.60673761,  1.30487651],\n",
       "       [ 1.37390747,  1.30487651],\n",
       "       [ 1.47293972,  1.30487651],\n",
       "       [ 0.08648817, -0.76635604],\n",
       "       [-0.01254409, -0.76635604],\n",
       "       [-0.21060859, -0.76635604],\n",
       "       [-0.21060859, -0.76635604],\n",
       "       [-0.30964085, -0.76635604],\n",
       "       [-0.30964085, -0.76635604],\n",
       "       [ 0.38358493,  1.30487651],\n",
       "       [ 0.8787462 ,  1.30487651],\n",
       "       [ 2.06713324,  1.30487651],\n",
       "       [ 1.07681071, -0.76635604],\n",
       "       [ 0.68068169,  1.30487651],\n",
       "       [-0.70576986, -0.76635604],\n",
       "       [ 0.77971394, -0.76635604],\n",
       "       [ 0.8787462 ,  1.30487651],\n",
       "       [-1.20093113, -0.76635604],\n",
       "       [ 2.1661655 ,  1.30487651],\n",
       "       [-0.01254409, -0.76635604],\n",
       "       [ 0.18552042,  1.30487651],\n",
       "       [ 0.38358493, -0.76635604],\n",
       "       [-0.30964085, -0.76635604],\n",
       "       [ 0.97777845,  1.30487651],\n",
       "       [ 0.97777845,  1.30487651],\n",
       "       [-0.01254409,  1.30487651],\n",
       "       [-0.90383437,  1.30487651],\n",
       "       [-1.20093113, -0.76635604],\n",
       "       [ 2.1661655 ,  1.30487651],\n",
       "       [-1.39899564, -0.76635604],\n",
       "       [ 0.38358493,  1.30487651],\n",
       "       [ 0.77971394, -0.76635604],\n",
       "       [-1.00286662, -0.76635604],\n",
       "       [ 0.08648817,  1.30487651],\n",
       "       [-1.00286662, -0.76635604],\n",
       "       [ 0.28455268, -0.76635604],\n",
       "       [ 0.68068169,  1.30487651],\n",
       "       [-0.50770535, -0.76635604],\n",
       "       [-1.79512465, -0.76635604],\n",
       "       [-0.70576986, -0.76635604],\n",
       "       [ 0.38358493, -0.76635604],\n",
       "       [-0.30964085, -0.76635604],\n",
       "       [-0.50770535,  1.30487651],\n",
       "       [ 0.18552042,  1.30487651],\n",
       "       [ 1.27487521,  1.30487651],\n",
       "       [ 0.77971394,  1.30487651],\n",
       "       [-0.30964085, -0.76635604],\n",
       "       [-0.01254409, -0.76635604],\n",
       "       [-0.21060859, -0.76635604],\n",
       "       [-0.11157634,  1.30487651],\n",
       "       [-0.01254409, -0.76635604],\n",
       "       [ 2.1661655 ,  1.30487651],\n",
       "       [-1.79512465, -0.76635604],\n",
       "       [ 1.86906873,  1.30487651],\n",
       "       [ 0.38358493, -0.76635604],\n",
       "       [-1.20093113, -0.76635604],\n",
       "       [ 0.77971394,  1.30487651],\n",
       "       [-0.30964085, -0.76635604],\n",
       "       [-1.6960924 , -0.76635604],\n",
       "       [-1.00286662, -0.76635604],\n",
       "       [ 0.28455268,  1.30487651],\n",
       "       [-0.11157634, -0.76635604],\n",
       "       [-1.10189888, -0.76635604],\n",
       "       [ 0.08648817, -0.76635604],\n",
       "       [-1.00286662,  1.30487651],\n",
       "       [-0.70576986,  1.30487651],\n",
       "       [-1.29996338, -0.76635604],\n",
       "       [-0.30964085, -0.76635604],\n",
       "       [-0.11157634,  1.30487651],\n",
       "       [-0.30964085, -0.76635604],\n",
       "       [ 0.8787462 ,  1.30487651],\n",
       "       [-0.30964085,  1.30487651],\n",
       "       [ 0.97777845,  1.30487651],\n",
       "       [-1.20093113, -0.76635604],\n",
       "       [-1.29996338, -0.76635604],\n",
       "       [ 1.37390747,  1.30487651],\n",
       "       [ 1.27487521,  1.30487651],\n",
       "       [-0.30964085, -0.76635604],\n",
       "       [-0.50770535, -0.76635604],\n",
       "       [-0.80480212,  1.30487651],\n",
       "       [ 0.97777845,  1.30487651],\n",
       "       [ 0.28455268, -0.76635604],\n",
       "       [ 0.97777845,  1.30487651],\n",
       "       [-0.70576986, -0.76635604],\n",
       "       [-0.70576986, -0.76635604],\n",
       "       [ 0.48261718,  1.30487651],\n",
       "       [ 2.06713324,  1.30487651],\n",
       "       [-1.99318916, -0.76635604],\n",
       "       [-0.21060859,  1.30487651],\n",
       "       [ 0.38358493,  1.30487651],\n",
       "       [ 0.8787462 ,  1.30487651],\n",
       "       [-1.20093113, -0.76635604],\n",
       "       [ 0.18552042, -0.76635604],\n",
       "       [ 0.77971394, -0.76635604],\n",
       "       [ 2.06713324, -0.76635604],\n",
       "       [ 0.77971394, -0.76635604],\n",
       "       [-0.30964085,  1.30487651],\n",
       "       [-1.00286662, -0.76635604],\n",
       "       [ 0.18552042, -0.76635604],\n",
       "       [ 2.06713324,  1.30487651],\n",
       "       [ 1.86906873,  1.30487651],\n",
       "       [ 1.37390747,  1.30487651],\n",
       "       [ 0.8787462 ,  1.30487651],\n",
       "       [ 1.47293972,  1.30487651],\n",
       "       [-0.30964085, -0.76635604],\n",
       "       [ 1.96810099,  1.30487651],\n",
       "       [ 0.68068169,  1.30487651],\n",
       "       [-1.49802789, -0.76635604],\n",
       "       [ 0.77971394,  1.30487651],\n",
       "       [ 0.38358493, -0.76635604],\n",
       "       [-1.00286662, -0.76635604],\n",
       "       [-0.01254409, -0.76635604],\n",
       "       [-1.20093113, -0.76635604],\n",
       "       [-0.90383437, -0.76635604],\n",
       "       [-0.11157634, -0.76635604],\n",
       "       [-1.59706014, -0.76635604],\n",
       "       [ 0.97777845,  1.30487651],\n",
       "       [ 1.07681071,  1.30487651],\n",
       "       [-0.01254409, -0.76635604],\n",
       "       [-1.10189888, -0.76635604],\n",
       "       [ 0.77971394,  1.30487651],\n",
       "       [ 0.97777845, -0.76635604],\n",
       "       [-1.20093113, -0.76635604],\n",
       "       [-0.30964085,  1.30487651],\n",
       "       [ 0.08648817, -0.76635604],\n",
       "       [-1.39899564, -0.76635604],\n",
       "       [-0.60673761, -0.76635604],\n",
       "       [ 0.77971394,  1.30487651],\n",
       "       [-0.30964085, -0.76635604],\n",
       "       [ 1.77003648,  1.30487651],\n",
       "       [ 0.8787462 ,  1.30487651],\n",
       "       [ 0.18552042, -0.76635604],\n",
       "       [-0.60673761,  1.30487651],\n",
       "       [-1.89415691, -0.76635604],\n",
       "       [-1.29996338, -0.76635604],\n",
       "       [-0.30964085, -0.76635604],\n",
       "       [-1.00286662, -0.76635604],\n",
       "       [ 1.17584296,  1.30487651],\n",
       "       [ 0.18552042, -0.76635604],\n",
       "       [ 1.17584296, -0.76635604],\n",
       "       [-0.30964085, -0.76635604],\n",
       "       [ 0.18552042,  1.30487651],\n",
       "       [ 0.77971394,  1.30487651],\n",
       "       [ 0.08648817, -0.76635604],\n",
       "       [-1.79512465, -0.76635604],\n",
       "       [-0.90383437, -0.76635604],\n",
       "       [-0.70576986, -0.76635604],\n",
       "       [ 0.8787462 ,  1.30487651],\n",
       "       [ 0.18552042, -0.76635604],\n",
       "       [-0.4086731 ,  1.30487651],\n",
       "       [-0.01254409, -0.76635604],\n",
       "       [ 0.38358493, -0.76635604],\n",
       "       [ 0.8787462 , -0.76635604],\n",
       "       [ 0.08648817,  1.30487651],\n",
       "       [-1.89415691, -0.76635604],\n",
       "       [-0.11157634, -0.76635604],\n",
       "       [-0.21060859, -0.76635604],\n",
       "       [ 0.28455268, -0.76635604],\n",
       "       [-0.21060859,  1.30487651],\n",
       "       [ 0.97777845,  1.30487651],\n",
       "       [-0.21060859,  1.30487651],\n",
       "       [ 1.27487521, -0.76635604],\n",
       "       [-1.10189888, -0.76635604],\n",
       "       [-0.01254409, -0.76635604],\n",
       "       [ 0.08648817, -0.76635604],\n",
       "       [-1.59706014, -0.76635604],\n",
       "       [-0.50770535, -0.76635604],\n",
       "       [ 0.97777845,  1.30487651],\n",
       "       [ 1.96810099,  1.30487651],\n",
       "       [ 1.47293972,  1.30487651],\n",
       "       [-0.60673761,  1.30487651],\n",
       "       [ 1.57197197,  1.30487651],\n",
       "       [-0.80480212, -0.76635604],\n",
       "       [ 1.96810099,  1.30487651],\n",
       "       [-1.20093113, -0.76635604],\n",
       "       [ 0.68068169, -0.76635604],\n",
       "       [-1.39899564, -0.76635604],\n",
       "       [ 0.18552042, -0.76635604],\n",
       "       [-0.50770535, -0.76635604],\n",
       "       [ 0.58164944,  1.30487651],\n",
       "       [-1.59706014, -0.76635604],\n",
       "       [-0.50770535, -0.76635604],\n",
       "       [ 0.48261718, -0.76635604],\n",
       "       [-1.39899564, -0.76635604],\n",
       "       [ 0.77971394, -0.76635604],\n",
       "       [-0.30964085, -0.76635604],\n",
       "       [ 1.57197197,  1.30487651],\n",
       "       [ 0.97777845,  1.30487651],\n",
       "       [-0.30964085, -0.76635604],\n",
       "       [-0.11157634,  1.30487651],\n",
       "       [-1.49802789, -0.76635604],\n",
       "       [-0.11157634,  1.30487651],\n",
       "       [-0.70576986, -0.76635604],\n",
       "       [-0.50770535, -0.76635604],\n",
       "       [ 0.68068169,  1.30487651],\n",
       "       [-0.80480212, -0.76635604],\n",
       "       [-1.89415691, -0.76635604],\n",
       "       [ 1.07681071, -0.76635604],\n",
       "       [ 0.08648817,  1.30487651],\n",
       "       [-0.30964085, -0.76635604],\n",
       "       [ 0.08648817, -0.76635604],\n",
       "       [-1.39899564, -0.76635604],\n",
       "       [ 0.28455268, -0.76635604],\n",
       "       [-0.90383437, -0.76635604],\n",
       "       [ 1.57197197,  1.30487651],\n",
       "       [-0.30964085, -0.76635604],\n",
       "       [-0.11157634, -0.76635604],\n",
       "       [-0.90383437, -0.76635604],\n",
       "       [-0.70576986, -0.76635604],\n",
       "       [ 0.38358493, -0.76635604],\n",
       "       [-0.80480212,  1.30487651],\n",
       "       [ 1.37390747, -0.76635604],\n",
       "       [ 1.17584296,  1.30487651],\n",
       "       [ 1.77003648,  1.30487651],\n",
       "       [-0.90383437, -0.76635604],\n",
       "       [-0.80480212, -0.76635604],\n",
       "       [-1.20093113, -0.76635604],\n",
       "       [-0.50770535, -0.76635604],\n",
       "       [ 0.28455268, -0.76635604],\n",
       "       [-0.21060859, -0.76635604],\n",
       "       [ 1.67100423,  1.30487651],\n",
       "       [ 0.97777845,  1.30487651],\n",
       "       [ 0.28455268, -0.76635604],\n",
       "       [-0.80480212, -0.76635604],\n",
       "       [-0.11157634, -0.76635604],\n",
       "       [ 0.28455268, -0.76635604],\n",
       "       [ 1.96810099,  1.30487651],\n",
       "       [-0.80480212, -0.76635604],\n",
       "       [-1.79512465, -0.76635604],\n",
       "       [-0.11157634, -0.76635604],\n",
       "       [ 0.28455268, -0.76635604],\n",
       "       [ 1.07681071,  1.30487651],\n",
       "       [-1.00286662, -0.76635604],\n",
       "       [ 1.47293972,  1.30487651],\n",
       "       [ 0.18552042, -0.76635604],\n",
       "       [ 2.1661655 ,  1.30487651],\n",
       "       [-0.30964085, -0.76635604],\n",
       "       [-1.6960924 , -0.76635604],\n",
       "       [-0.01254409, -0.76635604],\n",
       "       [ 0.08648817,  1.30487651],\n",
       "       [-0.11157634, -0.76635604],\n",
       "       [-1.20093113, -0.76635604],\n",
       "       [-0.30964085, -0.76635604],\n",
       "       [ 1.57197197,  1.30487651],\n",
       "       [-0.80480212, -0.76635604],\n",
       "       [ 0.08648817,  1.30487651],\n",
       "       [-0.90383437, -0.76635604],\n",
       "       [-0.50770535, -0.76635604],\n",
       "       [-0.30964085, -0.76635604],\n",
       "       [ 0.28455268, -0.76635604],\n",
       "       [ 0.28455268, -0.76635604],\n",
       "       [ 0.08648817,  1.30487651],\n",
       "       [-1.10189888,  1.30487651],\n",
       "       [-1.6960924 , -0.76635604],\n",
       "       [-1.20093113, -0.76635604],\n",
       "       [-0.70576986, -0.76635604],\n",
       "       [ 0.08648817, -0.76635604],\n",
       "       [ 0.28455268, -0.76635604],\n",
       "       [ 0.8787462 ,  1.30487651],\n",
       "       [ 0.28455268, -0.76635604],\n",
       "       [-0.11157634,  1.30487651],\n",
       "       [ 2.1661655 ,  1.30487651],\n",
       "       [-1.29996338, -0.76635604],\n",
       "       [-1.00286662, -0.76635604],\n",
       "       [-0.01254409, -0.76635604],\n",
       "       [-0.21060859, -0.76635604],\n",
       "       [-1.79512465, -0.76635604],\n",
       "       [ 1.77003648,  1.30487651],\n",
       "       [ 0.18552042, -0.76635604],\n",
       "       [ 0.38358493,  1.30487651],\n",
       "       [-1.79512465, -0.76635604],\n",
       "       [ 0.18552042, -0.76635604],\n",
       "       [ 0.8787462 ,  1.30487651],\n",
       "       [-1.99318916, -0.76635604],\n",
       "       [-0.30964085, -0.76635604],\n",
       "       [ 1.86906873,  1.30487651],\n",
       "       [-0.4086731 , -0.76635604],\n",
       "       [ 1.07681071,  1.30487651],\n",
       "       [-1.10189888, -0.76635604],\n",
       "       [-1.89415691, -0.76635604],\n",
       "       [ 0.08648817, -0.76635604],\n",
       "       [-1.20093113, -0.76635604],\n",
       "       [-1.29996338, -0.76635604],\n",
       "       [-1.00286662, -0.76635604],\n",
       "       [ 1.67100423,  1.30487651],\n",
       "       [ 1.17584296,  1.30487651],\n",
       "       [ 1.07681071,  1.30487651],\n",
       "       [ 1.37390747,  1.30487651],\n",
       "       [-0.30964085, -0.76635604],\n",
       "       [ 0.38358493, -0.76635604],\n",
       "       [-0.4086731 , -0.76635604],\n",
       "       [-0.11157634, -0.76635604],\n",
       "       [ 0.97777845,  1.30487651],\n",
       "       [-0.90383437, -0.76635604],\n",
       "       [-0.21060859, -0.76635604],\n",
       "       [-1.10189888, -0.76635604],\n",
       "       [-1.20093113, -0.76635604]])"
      ]
     },
     "execution_count": 18,
     "metadata": {},
     "output_type": "execute_result"
    }
   ],
   "source": [
    "# los datos se envuentran de -2 a 2\n",
    "X_train"
   ]
  },
  {
   "cell_type": "markdown",
   "id": "68be247d",
   "metadata": {},
   "source": [
    "# Entrenamiento del modelo"
   ]
  },
  {
   "cell_type": "code",
   "execution_count": 19,
   "id": "5a84e753",
   "metadata": {},
   "outputs": [],
   "source": [
    "from sklearn.linear_model import LogisticRegression"
   ]
  },
  {
   "cell_type": "code",
   "execution_count": 20,
   "id": "eaf65a31",
   "metadata": {},
   "outputs": [
    {
     "data": {
      "text/html": [
       "<style>#sk-container-id-1 {color: black;background-color: white;}#sk-container-id-1 pre{padding: 0;}#sk-container-id-1 div.sk-toggleable {background-color: white;}#sk-container-id-1 label.sk-toggleable__label {cursor: pointer;display: block;width: 100%;margin-bottom: 0;padding: 0.3em;box-sizing: border-box;text-align: center;}#sk-container-id-1 label.sk-toggleable__label-arrow:before {content: \"▸\";float: left;margin-right: 0.25em;color: #696969;}#sk-container-id-1 label.sk-toggleable__label-arrow:hover:before {color: black;}#sk-container-id-1 div.sk-estimator:hover label.sk-toggleable__label-arrow:before {color: black;}#sk-container-id-1 div.sk-toggleable__content {max-height: 0;max-width: 0;overflow: hidden;text-align: left;background-color: #f0f8ff;}#sk-container-id-1 div.sk-toggleable__content pre {margin: 0.2em;color: black;border-radius: 0.25em;background-color: #f0f8ff;}#sk-container-id-1 input.sk-toggleable__control:checked~div.sk-toggleable__content {max-height: 200px;max-width: 100%;overflow: auto;}#sk-container-id-1 input.sk-toggleable__control:checked~label.sk-toggleable__label-arrow:before {content: \"▾\";}#sk-container-id-1 div.sk-estimator input.sk-toggleable__control:checked~label.sk-toggleable__label {background-color: #d4ebff;}#sk-container-id-1 div.sk-label input.sk-toggleable__control:checked~label.sk-toggleable__label {background-color: #d4ebff;}#sk-container-id-1 input.sk-hidden--visually {border: 0;clip: rect(1px 1px 1px 1px);clip: rect(1px, 1px, 1px, 1px);height: 1px;margin: -1px;overflow: hidden;padding: 0;position: absolute;width: 1px;}#sk-container-id-1 div.sk-estimator {font-family: monospace;background-color: #f0f8ff;border: 1px dotted black;border-radius: 0.25em;box-sizing: border-box;margin-bottom: 0.5em;}#sk-container-id-1 div.sk-estimator:hover {background-color: #d4ebff;}#sk-container-id-1 div.sk-parallel-item::after {content: \"\";width: 100%;border-bottom: 1px solid gray;flex-grow: 1;}#sk-container-id-1 div.sk-label:hover label.sk-toggleable__label {background-color: #d4ebff;}#sk-container-id-1 div.sk-serial::before {content: \"\";position: absolute;border-left: 1px solid gray;box-sizing: border-box;top: 0;bottom: 0;left: 50%;z-index: 0;}#sk-container-id-1 div.sk-serial {display: flex;flex-direction: column;align-items: center;background-color: white;padding-right: 0.2em;padding-left: 0.2em;position: relative;}#sk-container-id-1 div.sk-item {position: relative;z-index: 1;}#sk-container-id-1 div.sk-parallel {display: flex;align-items: stretch;justify-content: center;background-color: white;position: relative;}#sk-container-id-1 div.sk-item::before, #sk-container-id-1 div.sk-parallel-item::before {content: \"\";position: absolute;border-left: 1px solid gray;box-sizing: border-box;top: 0;bottom: 0;left: 50%;z-index: -1;}#sk-container-id-1 div.sk-parallel-item {display: flex;flex-direction: column;z-index: 1;position: relative;background-color: white;}#sk-container-id-1 div.sk-parallel-item:first-child::after {align-self: flex-end;width: 50%;}#sk-container-id-1 div.sk-parallel-item:last-child::after {align-self: flex-start;width: 50%;}#sk-container-id-1 div.sk-parallel-item:only-child::after {width: 0;}#sk-container-id-1 div.sk-dashed-wrapped {border: 1px dashed gray;margin: 0 0.4em 0.5em 0.4em;box-sizing: border-box;padding-bottom: 0.4em;background-color: white;}#sk-container-id-1 div.sk-label label {font-family: monospace;font-weight: bold;display: inline-block;line-height: 1.2em;}#sk-container-id-1 div.sk-label-container {text-align: center;}#sk-container-id-1 div.sk-container {/* jupyter's `normalize.less` sets `[hidden] { display: none; }` but bootstrap.min.css set `[hidden] { display: none !important; }` so we also need the `!important` here to be able to override the default hidden behavior on the sphinx rendered scikit-learn.org. See: https://github.com/scikit-learn/scikit-learn/issues/21755 */display: inline-block !important;position: relative;}#sk-container-id-1 div.sk-text-repr-fallback {display: none;}</style><div id=\"sk-container-id-1\" class=\"sk-top-container\"><div class=\"sk-text-repr-fallback\"><pre>LogisticRegression(random_state=0)</pre><b>In a Jupyter environment, please rerun this cell to show the HTML representation or trust the notebook. <br />On GitHub, the HTML representation is unable to render, please try loading this page with nbviewer.org.</b></div><div class=\"sk-container\" hidden><div class=\"sk-item\"><div class=\"sk-estimator sk-toggleable\"><input class=\"sk-toggleable__control sk-hidden--visually\" id=\"sk-estimator-id-1\" type=\"checkbox\" checked><label for=\"sk-estimator-id-1\" class=\"sk-toggleable__label sk-toggleable__label-arrow\">LogisticRegression</label><div class=\"sk-toggleable__content\"><pre>LogisticRegression(random_state=0)</pre></div></div></div></div></div>"
      ],
      "text/plain": [
       "LogisticRegression(random_state=0)"
      ]
     },
     "execution_count": 20,
     "metadata": {},
     "output_type": "execute_result"
    }
   ],
   "source": [
    "classifier = LogisticRegression(random_state=0)\n",
    "classifier.fit(X_train, y_train)"
   ]
  },
  {
   "cell_type": "code",
   "execution_count": 23,
   "id": "7ceee400",
   "metadata": {},
   "outputs": [
    {
     "name": "stdout",
     "output_type": "stream",
     "text": [
      "[0 0 0 0 0 0 0 1 0 0 0 0 0 0 0 0 0 0 1 0 0 1 0 1 0 1 0 0 0 0 0 1 1 0 0 0 0\n",
      " 0 0 1 0 0 0 0 1 0 0 1 0 1 1 0 0 0 1 1 0 0 1 0 0 1 0 1 0 1 0 0 0 0 1 0 0 1\n",
      " 0 0 0 0 1 1 1 0 0 0 1 1 0 1 1 0 0 1 0 0 0 1 0 1 1 1]\n"
     ]
    }
   ],
   "source": [
    "y_pred = classifier.predict(X_test)\n",
    "print(y_pred)"
   ]
  },
  {
   "cell_type": "markdown",
   "id": "c282044a",
   "metadata": {},
   "source": [
    "# Prediccion de reuulatados y matriz de confusión"
   ]
  },
  {
   "cell_type": "code",
   "execution_count": 24,
   "id": "d6a38b0f",
   "metadata": {},
   "outputs": [],
   "source": [
    "import seaborn as sns"
   ]
  },
  {
   "cell_type": "code",
   "execution_count": 26,
   "id": "bb745011",
   "metadata": {},
   "outputs": [
    {
     "name": "stdout",
     "output_type": "stream",
     "text": [
      "[[68  0]\n",
      " [ 0 32]]\n"
     ]
    },
    {
     "data": {
      "text/plain": [
       "<Axes: >"
      ]
     },
     "execution_count": 26,
     "metadata": {},
     "output_type": "execute_result"
    },
    {
     "data": {
      "image/png": "[encoded data removed]",
      "text/plain": [
       "<Figure size 640x480 with 2 Axes>"
      ]
     },
     "metadata": {},
     "output_type": "display_data"
    }
   ],
   "source": [
    "cm = confusion_matrix(y_pred, y_test)\n",
    "print(cm)\n",
    "sns.heatmap(cm)"
   ]
  },
  {
   "cell_type": "markdown",
   "id": "f3d83d09",
   "metadata": {},
   "source": [
    "# Conclusión\n",
    "El resultado muestra \n",
    "- predicciones correctas 68 + 32 = 100 \n",
    "- predicciones incorrectas = 0"
   ]
  },
  {
   "cell_type": "markdown",
   "id": "96bff8d2",
   "metadata": {},
   "source": [
    "# Regresión Logística\n",
    "- Estimamos los valores de las <variables categóricas> mediante regresión logística\n",
    "- Descubrimooos la curva en S (sigmoidea) para categorizar las muestras\n",
    "- No es necesario que exista una conexión lineal entre las variables dependientes e independientes\n",
    "- No debe haber colinealidad entre las variables independientes en la regresión logística"
   ]
  },
  {
   "cell_type": "markdown",
   "id": "99d4101f",
   "metadata": {},
   "source": [
    "# Regresión Lineal\n",
    "- Estimamos el resultado de >variables continuas> mediante regresión lineal\n",
    "- Buscamos la línea de mejor ajuste, que nos permita predecir el resultado con facilidad\n",
    "- Es necesario que la conexión entre las variables dependientes e independientes sea lineal\n",
    "- Existe la posibilidad de colinealidad enre los factores independientes"
   ]
  },
  {
   "cell_type": "code",
   "execution_count": null,
   "id": "ac3ecdb6",
   "metadata": {},
   "outputs": [],
   "source": []
  }
 ],
 "metadata": {
  "kernelspec": {
   "display_name": "Python 3 (ipykernel)",
   "language": "python",
   "name": "python3"
  },
  "language_info": {
   "codemirror_mode": {
    "name": "ipython",
    "version": 3
   },
   "file_extension": ".py",
   "mimetype": "text/x-python",
   "name": "python",
   "nbconvert_exporter": "python",
   "pygments_lexer": "ipython3",
   "version": "3.11.7"
  }
 },
 "nbformat": 4,
 "nbformat_minor": 5
}
