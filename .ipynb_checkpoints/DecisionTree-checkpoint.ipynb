{
 "cells": [
  {
   "cell_type": "markdown",
   "id": "8b015bb2",
   "metadata": {},
   "source": [
    "# Entropía\n",
    "Es la medida de la cantidad de incertidumbre o aleatoriedad de los datos\n",
    "Valor mínimo de incertidumbre: 0 (sin aleatoriedad)\n",
    "Valos más alto: 1 (alta aleatoriedad)"
   ]
  },
  {
   "cell_type": "code",
   "execution_count": 2,
   "id": "59349bb1",
   "metadata": {},
   "outputs": [],
   "source": [
    "import pandas as pd\n",
    "from sklearn.tree import DecisionTreeClassifier \n",
    "from sklearn.model_selection import train_test_split\n",
    "from sklearn import metrics  # Para calcular la exactitud"
   ]
  },
  {
   "cell_type": "code",
   "execution_count": null,
   "id": "24617ab3",
   "metadata": {},
   "outputs": [],
   "source": [
    "col_name = ['company', 'job', 'defree', 'salary_more_than_100k']\n",
    "data = pd.read_csv(\"salaries\")"
   ]
  }
 ],
 "metadata": {
  "kernelspec": {
   "display_name": "Python 3 (ipykernel)",
   "language": "python",
   "name": "python3"
  },
  "language_info": {
   "codemirror_mode": {
    "name": "ipython",
    "version": 3
   },
   "file_extension": ".py",
   "mimetype": "text/x-python",
   "name": "python",
   "nbconvert_exporter": "python",
   "pygments_lexer": "ipython3",
   "version": "3.11.7"
  }
 },
 "nbformat": 4,
 "nbformat_minor": 5
}
